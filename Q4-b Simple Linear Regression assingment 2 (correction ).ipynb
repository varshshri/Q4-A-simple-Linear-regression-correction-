{
 "cells": [
  {
   "cell_type": "markdown",
   "id": "0c0034e9",
   "metadata": {},
   "source": [
    "# 2) Salary_hike -> Build a prediction model for Salary_hike\n",
    "\n",
    "------------------------------------------------------------\n",
    "\n",
    "Build a simple linear regression model by performing EDA and do necessary transformations and select the best model using R or Python.\n",
    "(punith)"
   ]
  },
  {
   "cell_type": "code",
   "execution_count": 5,
   "id": "ad6967bd",
   "metadata": {
    "ExecuteTime": {
     "end_time": "2021-12-06T21:18:05.201450Z",
     "start_time": "2021-12-06T21:18:05.187565Z"
    }
   },
   "outputs": [],
   "source": [
    "import pandas as pd\n",
    "import numpy as np\n",
    "import matplotlib.pyplot as plt\n",
    "import seaborn as sns\n",
    "import statsmodels.formula.api as smf\n",
    "import statsmodels.api as sm \n",
    "from sklearn.linear_model import LinearRegression\n",
    "from sklearn.model_selection import train_test_split"
   ]
  },
  {
   "cell_type": "code",
   "execution_count": 8,
   "id": "271f893b",
   "metadata": {
    "ExecuteTime": {
     "end_time": "2021-12-06T21:20:38.424753Z",
     "start_time": "2021-12-06T21:20:38.409130Z"
    }
   },
   "outputs": [],
   "source": [
    "sal = pd.read_csv('Salary_Data.csv')"
   ]
  },
  {
   "cell_type": "code",
   "execution_count": 9,
   "id": "0e912052",
   "metadata": {
    "ExecuteTime": {
     "end_time": "2021-12-06T21:20:41.234047Z",
     "start_time": "2021-12-06T21:20:41.216704Z"
    }
   },
   "outputs": [
    {
     "data": {
      "text/html": [
       "<div>\n",
       "<style scoped>\n",
       "    .dataframe tbody tr th:only-of-type {\n",
       "        vertical-align: middle;\n",
       "    }\n",
       "\n",
       "    .dataframe tbody tr th {\n",
       "        vertical-align: top;\n",
       "    }\n",
       "\n",
       "    .dataframe thead th {\n",
       "        text-align: right;\n",
       "    }\n",
       "</style>\n",
       "<table border=\"1\" class=\"dataframe\">\n",
       "  <thead>\n",
       "    <tr style=\"text-align: right;\">\n",
       "      <th></th>\n",
       "      <th>YearsExperience</th>\n",
       "      <th>Salary</th>\n",
       "    </tr>\n",
       "  </thead>\n",
       "  <tbody>\n",
       "    <tr>\n",
       "      <th>0</th>\n",
       "      <td>1.1</td>\n",
       "      <td>39343.0</td>\n",
       "    </tr>\n",
       "    <tr>\n",
       "      <th>1</th>\n",
       "      <td>1.3</td>\n",
       "      <td>46205.0</td>\n",
       "    </tr>\n",
       "    <tr>\n",
       "      <th>2</th>\n",
       "      <td>1.5</td>\n",
       "      <td>37731.0</td>\n",
       "    </tr>\n",
       "    <tr>\n",
       "      <th>3</th>\n",
       "      <td>2.0</td>\n",
       "      <td>43525.0</td>\n",
       "    </tr>\n",
       "    <tr>\n",
       "      <th>4</th>\n",
       "      <td>2.2</td>\n",
       "      <td>39891.0</td>\n",
       "    </tr>\n",
       "  </tbody>\n",
       "</table>\n",
       "</div>"
      ],
      "text/plain": [
       "   YearsExperience   Salary\n",
       "0              1.1  39343.0\n",
       "1              1.3  46205.0\n",
       "2              1.5  37731.0\n",
       "3              2.0  43525.0\n",
       "4              2.2  39891.0"
      ]
     },
     "execution_count": 9,
     "metadata": {},
     "output_type": "execute_result"
    }
   ],
   "source": [
    "sal.head()"
   ]
  },
  {
   "cell_type": "code",
   "execution_count": 11,
   "id": "e355a605",
   "metadata": {
    "ExecuteTime": {
     "end_time": "2021-12-06T21:21:12.317775Z",
     "start_time": "2021-12-06T21:21:12.315776Z"
    }
   },
   "outputs": [],
   "source": [
    "sal1 = sal.rename(columns={'YearsExperience' : 'YE','Salary':'Sal'})"
   ]
  },
  {
   "cell_type": "code",
   "execution_count": 13,
   "id": "7ebf5ddf",
   "metadata": {
    "ExecuteTime": {
     "end_time": "2021-12-06T21:21:21.982567Z",
     "start_time": "2021-12-06T21:21:21.967626Z"
    }
   },
   "outputs": [
    {
     "data": {
      "text/html": [
       "<div>\n",
       "<style scoped>\n",
       "    .dataframe tbody tr th:only-of-type {\n",
       "        vertical-align: middle;\n",
       "    }\n",
       "\n",
       "    .dataframe tbody tr th {\n",
       "        vertical-align: top;\n",
       "    }\n",
       "\n",
       "    .dataframe thead th {\n",
       "        text-align: right;\n",
       "    }\n",
       "</style>\n",
       "<table border=\"1\" class=\"dataframe\">\n",
       "  <thead>\n",
       "    <tr style=\"text-align: right;\">\n",
       "      <th></th>\n",
       "      <th>YE</th>\n",
       "      <th>Sal</th>\n",
       "    </tr>\n",
       "  </thead>\n",
       "  <tbody>\n",
       "    <tr>\n",
       "      <th>count</th>\n",
       "      <td>30.000000</td>\n",
       "      <td>30.000000</td>\n",
       "    </tr>\n",
       "    <tr>\n",
       "      <th>mean</th>\n",
       "      <td>5.313333</td>\n",
       "      <td>76003.000000</td>\n",
       "    </tr>\n",
       "    <tr>\n",
       "      <th>std</th>\n",
       "      <td>2.837888</td>\n",
       "      <td>27414.429785</td>\n",
       "    </tr>\n",
       "    <tr>\n",
       "      <th>min</th>\n",
       "      <td>1.100000</td>\n",
       "      <td>37731.000000</td>\n",
       "    </tr>\n",
       "    <tr>\n",
       "      <th>25%</th>\n",
       "      <td>3.200000</td>\n",
       "      <td>56720.750000</td>\n",
       "    </tr>\n",
       "    <tr>\n",
       "      <th>50%</th>\n",
       "      <td>4.700000</td>\n",
       "      <td>65237.000000</td>\n",
       "    </tr>\n",
       "    <tr>\n",
       "      <th>75%</th>\n",
       "      <td>7.700000</td>\n",
       "      <td>100544.750000</td>\n",
       "    </tr>\n",
       "    <tr>\n",
       "      <th>max</th>\n",
       "      <td>10.500000</td>\n",
       "      <td>122391.000000</td>\n",
       "    </tr>\n",
       "  </tbody>\n",
       "</table>\n",
       "</div>"
      ],
      "text/plain": [
       "              YE            Sal\n",
       "count  30.000000      30.000000\n",
       "mean    5.313333   76003.000000\n",
       "std     2.837888   27414.429785\n",
       "min     1.100000   37731.000000\n",
       "25%     3.200000   56720.750000\n",
       "50%     4.700000   65237.000000\n",
       "75%     7.700000  100544.750000\n",
       "max    10.500000  122391.000000"
      ]
     },
     "execution_count": 13,
     "metadata": {},
     "output_type": "execute_result"
    }
   ],
   "source": [
    "sal1.describe()"
   ]
  },
  {
   "cell_type": "code",
   "execution_count": 15,
   "id": "8652850c",
   "metadata": {
    "ExecuteTime": {
     "end_time": "2021-12-06T21:21:34.730052Z",
     "start_time": "2021-12-06T21:21:34.218359Z"
    }
   },
   "outputs": [
    {
     "data": {
      "text/plain": [
       "<seaborn.axisgrid.PairGrid at 0x221cf37b7f0>"
      ]
     },
     "execution_count": 15,
     "metadata": {},
     "output_type": "execute_result"
    },
    {
     "data": {
      "image/png": "[encoded data removed]",
      "text/plain": [
       "<Figure size 360x360 with 6 Axes>"
      ]
     },
     "metadata": {
      "needs_background": "light"
     },
     "output_type": "display_data"
    }
   ],
   "source": [
    "sns.pairplot(sal1)"
   ]
  },
  {
   "cell_type": "code",
   "execution_count": 17,
   "id": "d32ba097",
   "metadata": {
    "ExecuteTime": {
     "end_time": "2021-12-06T21:21:49.079069Z",
     "start_time": "2021-12-06T21:21:48.967290Z"
    }
   },
   "outputs": [
    {
     "data": {
      "image/png": "[encoded data removed]",
      "text/plain": [
       "<Figure size 432x288 with 1 Axes>"
      ]
     },
     "metadata": {
      "needs_background": "light"
     },
     "output_type": "display_data"
    }
   ],
   "source": [
    "plt.scatter(x=sal1['YE'],y=sal1['Sal'])\n",
    "plt.xlabel('Years of Experience')\n",
    "plt.ylabel('Salary')\n",
    "plt.show()"
   ]
  },
  {
   "cell_type": "code",
   "execution_count": 19,
   "id": "9949409d",
   "metadata": {
    "ExecuteTime": {
     "end_time": "2021-12-06T21:22:02.741036Z",
     "start_time": "2021-12-06T21:22:02.735053Z"
    }
   },
   "outputs": [
    {
     "data": {
      "text/plain": [
       "0.9782416184887599"
      ]
     },
     "execution_count": 19,
     "metadata": {},
     "output_type": "execute_result"
    }
   ],
   "source": [
    "sal1['YE'].corr(sal1['Sal'])"
   ]
  },
  {
   "cell_type": "code",
   "execution_count": 21,
   "id": "690c9173",
   "metadata": {
    "ExecuteTime": {
     "end_time": "2021-12-06T21:22:14.462055Z",
     "start_time": "2021-12-06T21:22:14.457068Z"
    }
   },
   "outputs": [
    {
     "data": {
      "text/plain": [
       "array([[1.        , 0.97824162],\n",
       "       [0.97824162, 1.        ]])"
      ]
     },
     "execution_count": 21,
     "metadata": {},
     "output_type": "execute_result"
    }
   ],
   "source": [
    "np.corrcoef(sal1['YE'],sal1['Sal'])"
   ]
  },
  {
   "cell_type": "code",
   "execution_count": 23,
   "id": "3ac78673",
   "metadata": {
    "ExecuteTime": {
     "end_time": "2021-12-06T21:22:23.705532Z",
     "start_time": "2021-12-06T21:22:23.697553Z"
    }
   },
   "outputs": [],
   "source": [
    "model_y = smf.ols(\"YE~Sal\",data=sal1).fit()"
   ]
  },
  {
   "cell_type": "code",
   "execution_count": 25,
   "id": "9ebcae4b",
   "metadata": {
    "ExecuteTime": {
     "end_time": "2021-12-06T21:22:57.113785Z",
     "start_time": "2021-12-06T21:22:57.105786Z"
    }
   },
   "outputs": [
    {
     "data": {
      "text/plain": [
       "Intercept   -2.383161\n",
       "Sal          0.000101\n",
       "dtype: float64"
      ]
     },
     "execution_count": 25,
     "metadata": {},
     "output_type": "execute_result"
    }
   ],
   "source": [
    "model_y.params"
   ]
  },
  {
   "cell_type": "code",
   "execution_count": 27,
   "id": "1940c7b3",
   "metadata": {
    "ExecuteTime": {
     "end_time": "2021-12-06T21:23:04.485845Z",
     "start_time": "2021-12-06T21:23:04.470897Z"
    }
   },
   "outputs": [
    {
     "data": {
      "text/plain": [
       "Intercept   -2.383161\n",
       "Sal          0.000101\n",
       "dtype: float64"
      ]
     },
     "execution_count": 27,
     "metadata": {},
     "output_type": "execute_result"
    }
   ],
   "source": [
    "model_y.params"
   ]
  },
  {
   "cell_type": "code",
   "execution_count": 29,
   "id": "621b96d8",
   "metadata": {
    "ExecuteTime": {
     "end_time": "2021-12-06T21:23:25.599832Z",
     "start_time": "2021-12-06T21:23:25.583874Z"
    }
   },
   "outputs": [
    {
     "data": {
      "text/html": [
       "<table class=\"simpletable\">\n",
       "<caption>OLS Regression Results</caption>\n",
       "<tr>\n",
       "  <th>Dep. Variable:</th>           <td>YE</td>        <th>  R-squared:         </th> <td>   0.957</td>\n",
       "</tr>\n",
       "<tr>\n",
       "  <th>Model:</th>                   <td>OLS</td>       <th>  Adj. R-squared:    </th> <td>   0.955</td>\n",
       "</tr>\n",
       "<tr>\n",
       "  <th>Method:</th>             <td>Least Squares</td>  <th>  F-statistic:       </th> <td>   622.5</td>\n",
       "</tr>\n",
       "<tr>\n",
       "  <th>Date:</th>             <td>Mon, 06 Dec 2021</td> <th>  Prob (F-statistic):</th> <td>1.14e-20</td>\n",
       "</tr>\n",
       "<tr>\n",
       "  <th>Time:</th>                 <td>16:23:25</td>     <th>  Log-Likelihood:    </th> <td> -26.168</td>\n",
       "</tr>\n",
       "<tr>\n",
       "  <th>No. Observations:</th>      <td>    30</td>      <th>  AIC:               </th> <td>   56.34</td>\n",
       "</tr>\n",
       "<tr>\n",
       "  <th>Df Residuals:</th>          <td>    28</td>      <th>  BIC:               </th> <td>   59.14</td>\n",
       "</tr>\n",
       "<tr>\n",
       "  <th>Df Model:</th>              <td>     1</td>      <th>                     </th>     <td> </td>   \n",
       "</tr>\n",
       "<tr>\n",
       "  <th>Covariance Type:</th>      <td>nonrobust</td>    <th>                     </th>     <td> </td>   \n",
       "</tr>\n",
       "</table>\n",
       "<table class=\"simpletable\">\n",
       "<tr>\n",
       "      <td></td>         <th>coef</th>     <th>std err</th>      <th>t</th>      <th>P>|t|</th>  <th>[0.025</th>    <th>0.975]</th>  \n",
       "</tr>\n",
       "<tr>\n",
       "  <th>Intercept</th> <td>   -2.3832</td> <td>    0.327</td> <td>   -7.281</td> <td> 0.000</td> <td>   -3.054</td> <td>   -1.713</td>\n",
       "</tr>\n",
       "<tr>\n",
       "  <th>Sal</th>       <td>    0.0001</td> <td> 4.06e-06</td> <td>   24.950</td> <td> 0.000</td> <td>  9.3e-05</td> <td>    0.000</td>\n",
       "</tr>\n",
       "</table>\n",
       "<table class=\"simpletable\">\n",
       "<tr>\n",
       "  <th>Omnibus:</th>       <td> 3.544</td> <th>  Durbin-Watson:     </th> <td>   1.587</td>\n",
       "</tr>\n",
       "<tr>\n",
       "  <th>Prob(Omnibus):</th> <td> 0.170</td> <th>  Jarque-Bera (JB):  </th> <td>   2.094</td>\n",
       "</tr>\n",
       "<tr>\n",
       "  <th>Skew:</th>          <td>-0.412</td> <th>  Prob(JB):          </th> <td>   0.351</td>\n",
       "</tr>\n",
       "<tr>\n",
       "  <th>Kurtosis:</th>      <td> 2.003</td> <th>  Cond. No.          </th> <td>2.41e+05</td>\n",
       "</tr>\n",
       "</table><br/><br/>Notes:<br/>[1] Standard Errors assume that the covariance matrix of the errors is correctly specified.<br/>[2] The condition number is large, 2.41e+05. This might indicate that there are<br/>strong multicollinearity or other numerical problems."
      ],
      "text/plain": [
       "<class 'statsmodels.iolib.summary.Summary'>\n",
       "\"\"\"\n",
       "                            OLS Regression Results                            \n",
       "==============================================================================\n",
       "Dep. Variable:                     YE   R-squared:                       0.957\n",
       "Model:                            OLS   Adj. R-squared:                  0.955\n",
       "Method:                 Least Squares   F-statistic:                     622.5\n",
       "Date:                Mon, 06 Dec 2021   Prob (F-statistic):           1.14e-20\n",
       "Time:                        16:23:25   Log-Likelihood:                -26.168\n",
       "No. Observations:                  30   AIC:                             56.34\n",
       "Df Residuals:                      28   BIC:                             59.14\n",
       "Df Model:                           1                                         \n",
       "Covariance Type:            nonrobust                                         \n",
       "==============================================================================\n",
       "                 coef    std err          t      P>|t|      [0.025      0.975]\n",
       "------------------------------------------------------------------------------\n",
       "Intercept     -2.3832      0.327     -7.281      0.000      -3.054      -1.713\n",
       "Sal            0.0001   4.06e-06     24.950      0.000     9.3e-05       0.000\n",
       "==============================================================================\n",
       "Omnibus:                        3.544   Durbin-Watson:                   1.587\n",
       "Prob(Omnibus):                  0.170   Jarque-Bera (JB):                2.094\n",
       "Skew:                          -0.412   Prob(JB):                        0.351\n",
       "Kurtosis:                       2.003   Cond. No.                     2.41e+05\n",
       "==============================================================================\n",
       "\n",
       "Notes:\n",
       "[1] Standard Errors assume that the covariance matrix of the errors is correctly specified.\n",
       "[2] The condition number is large, 2.41e+05. This might indicate that there are\n",
       "strong multicollinearity or other numerical problems.\n",
       "\"\"\""
      ]
     },
     "execution_count": 29,
     "metadata": {},
     "output_type": "execute_result"
    }
   ],
   "source": [
    "model_y.summary()"
   ]
  },
  {
   "cell_type": "code",
   "execution_count": 31,
   "id": "3e270d65",
   "metadata": {
    "ExecuteTime": {
     "end_time": "2021-12-06T21:23:37.493152Z",
     "start_time": "2021-12-06T21:23:37.473206Z"
    }
   },
   "outputs": [
    {
     "data": {
      "text/html": [
       "<div>\n",
       "<style scoped>\n",
       "    .dataframe tbody tr th:only-of-type {\n",
       "        vertical-align: middle;\n",
       "    }\n",
       "\n",
       "    .dataframe tbody tr th {\n",
       "        vertical-align: top;\n",
       "    }\n",
       "\n",
       "    .dataframe thead th {\n",
       "        text-align: right;\n",
       "    }\n",
       "</style>\n",
       "<table border=\"1\" class=\"dataframe\">\n",
       "  <thead>\n",
       "    <tr style=\"text-align: right;\">\n",
       "      <th></th>\n",
       "      <th>0</th>\n",
       "      <th>1</th>\n",
       "    </tr>\n",
       "  </thead>\n",
       "  <tbody>\n",
       "    <tr>\n",
       "      <th>Intercept</th>\n",
       "      <td>-3.053603</td>\n",
       "      <td>-1.712718</td>\n",
       "    </tr>\n",
       "    <tr>\n",
       "      <th>Sal</th>\n",
       "      <td>0.000093</td>\n",
       "      <td>0.000110</td>\n",
       "    </tr>\n",
       "  </tbody>\n",
       "</table>\n",
       "</div>"
      ],
      "text/plain": [
       "                  0         1\n",
       "Intercept -3.053603 -1.712718\n",
       "Sal        0.000093  0.000110"
      ]
     },
     "execution_count": 31,
     "metadata": {},
     "output_type": "execute_result"
    }
   ],
   "source": [
    "model_y.conf_int(0.05)"
   ]
  },
  {
   "cell_type": "code",
   "execution_count": 34,
   "id": "22848dd5",
   "metadata": {
    "ExecuteTime": {
     "end_time": "2021-12-06T21:24:07.996961Z",
     "start_time": "2021-12-06T21:24:07.978012Z"
    }
   },
   "outputs": [
    {
     "data": {
      "text/plain": [
       "0      1.600934\n",
       "1      2.295819\n",
       "2      1.437694\n",
       "3      2.024427\n",
       "4      1.656428\n",
       "5      3.352729\n",
       "6      3.707969\n",
       "7      3.130248\n",
       "8      4.142905\n",
       "9      3.408121\n",
       "10     4.018652\n",
       "11     3.266856\n",
       "12     3.384628\n",
       "13     3.397185\n",
       "14     3.805285\n",
       "15     4.496626\n",
       "16     4.303310\n",
       "17     6.030801\n",
       "18     5.856117\n",
       "19     7.129735\n",
       "20     6.906748\n",
       "21     7.568520\n",
       "22     7.875253\n",
       "23     9.142087\n",
       "24     8.698442\n",
       "25     8.308670\n",
       "26     9.461782\n",
       "27     9.022897\n",
       "28    10.010845\n",
       "29     9.958288\n",
       "dtype: float64"
      ]
     },
     "execution_count": 34,
     "metadata": {},
     "output_type": "execute_result"
    }
   ],
   "source": [
    "prediction = model_y.predict(sal1.iloc[:,1])\n",
    "prediction"
   ]
  },
  {
   "cell_type": "code",
   "execution_count": 56,
   "id": "1d76f8d8",
   "metadata": {
    "ExecuteTime": {
     "end_time": "2021-12-06T21:26:47.270324Z",
     "start_time": "2021-12-06T21:26:47.252334Z"
    }
   },
   "outputs": [],
   "source": [
    "#train test split from sklearn- spliting data for X and Y\n",
    "\n",
    "X = np.array([sal1['YE']]).reshape(-1,1)\n",
    "y = np.array([sal1['Sal']]).reshape(-1,1)\n",
    "\n",
    "X_train, X_test, y_train, y_test = train_test_split( X, y, test_size=0.25)"
   ]
  },
  {
   "cell_type": "code",
   "execution_count": 57,
   "id": "7f22353d",
   "metadata": {
    "ExecuteTime": {
     "end_time": "2021-12-06T21:26:49.572371Z",
     "start_time": "2021-12-06T21:26:49.554419Z"
    }
   },
   "outputs": [
    {
     "data": {
      "text/plain": [
       "array([[ 5.1],\n",
       "       [ 1.1],\n",
       "       [ 9. ],\n",
       "       [ 3.7],\n",
       "       [ 9.5],\n",
       "       [ 5.9],\n",
       "       [ 3.2],\n",
       "       [ 1.5],\n",
       "       [10.3],\n",
       "       [ 7.1],\n",
       "       [ 4.5],\n",
       "       [ 6.8],\n",
       "       [ 4.1],\n",
       "       [ 6. ],\n",
       "       [ 4. ],\n",
       "       [ 5.3],\n",
       "       [10.5],\n",
       "       [ 1.3],\n",
       "       [ 3.2],\n",
       "       [ 7.9],\n",
       "       [ 8.7],\n",
       "       [ 2.9]])"
      ]
     },
     "execution_count": 57,
     "metadata": {},
     "output_type": "execute_result"
    }
   ],
   "source": [
    "X_train"
   ]
  },
  {
   "cell_type": "code",
   "execution_count": 58,
   "id": "6e2a5d0f",
   "metadata": {
    "ExecuteTime": {
     "end_time": "2021-12-06T21:27:04.215137Z",
     "start_time": "2021-12-06T21:27:04.196188Z"
    }
   },
   "outputs": [
    {
     "data": {
      "text/plain": [
       "array([[ 66029.],\n",
       "       [ 39343.],\n",
       "       [105582.],\n",
       "       [ 57189.],\n",
       "       [116969.],\n",
       "       [ 81363.],\n",
       "       [ 54445.],\n",
       "       [ 37731.],\n",
       "       [122391.],\n",
       "       [ 98273.],\n",
       "       [ 61111.],\n",
       "       [ 91738.],\n",
       "       [ 57081.],\n",
       "       [ 93940.],\n",
       "       [ 55794.],\n",
       "       [ 83088.],\n",
       "       [121872.],\n",
       "       [ 46205.],\n",
       "       [ 64445.],\n",
       "       [101302.],\n",
       "       [109431.],\n",
       "       [ 56642.]])"
      ]
     },
     "execution_count": 58,
     "metadata": {},
     "output_type": "execute_result"
    }
   ],
   "source": [
    "y_train"
   ]
  },
  {
   "cell_type": "code",
   "execution_count": 59,
   "id": "97bc9723",
   "metadata": {
    "ExecuteTime": {
     "end_time": "2021-12-06T21:27:09.850224Z",
     "start_time": "2021-12-06T21:27:09.839212Z"
    }
   },
   "outputs": [],
   "source": [
    "l_model = LinearRegression().fit(X_train,y_train)"
   ]
  },
  {
   "cell_type": "code",
   "execution_count": 66,
   "id": "ff1aa7ac",
   "metadata": {
    "ExecuteTime": {
     "end_time": "2021-12-06T21:27:26.876847Z",
     "start_time": "2021-12-06T21:27:26.866872Z"
    }
   },
   "outputs": [
    {
     "data": {
      "text/plain": [
       "94.87459785337845"
      ]
     },
     "execution_count": 66,
     "metadata": {},
     "output_type": "execute_result"
    }
   ],
   "source": [
    "l_model.score(X_test,y_test)*100"
   ]
  },
  {
   "cell_type": "code",
   "execution_count": 67,
   "id": "04b3ea55",
   "metadata": {
    "ExecuteTime": {
     "end_time": "2021-12-06T21:27:28.985414Z",
     "start_time": "2021-12-06T21:27:28.967346Z"
    }
   },
   "outputs": [
    {
     "data": {
      "text/plain": [
       "array([[3.9],\n",
       "       [4. ],\n",
       "       [2.2],\n",
       "       [2. ],\n",
       "       [8.2],\n",
       "       [3. ],\n",
       "       [4.9],\n",
       "       [9.6]])"
      ]
     },
     "execution_count": 67,
     "metadata": {},
     "output_type": "execute_result"
    }
   ],
   "source": [
    "X_test"
   ]
  },
  {
   "cell_type": "code",
   "execution_count": 69,
   "id": "d2b63443",
   "metadata": {
    "ExecuteTime": {
     "end_time": "2021-12-06T21:27:46.671536Z",
     "start_time": "2021-12-06T21:27:46.654581Z"
    }
   },
   "outputs": [
    {
     "data": {
      "text/plain": [
       "array([[ 63218.],\n",
       "       [ 56957.],\n",
       "       [ 39891.],\n",
       "       [ 43525.],\n",
       "       [113812.],\n",
       "       [ 60150.],\n",
       "       [ 67938.],\n",
       "       [112635.]])"
      ]
     },
     "execution_count": 69,
     "metadata": {},
     "output_type": "execute_result"
    }
   ],
   "source": [
    "y_test"
   ]
  },
  {
   "cell_type": "code",
   "execution_count": 71,
   "id": "28cd438f",
   "metadata": {
    "ExecuteTime": {
     "end_time": "2021-12-06T21:28:17.089071Z",
     "start_time": "2021-12-06T21:28:17.073113Z"
    }
   },
   "outputs": [
    {
     "data": {
      "text/plain": [
       "array([[ 63220.54135059],\n",
       "       [ 64145.43545753],\n",
       "       [ 47497.34153248],\n",
       "       [ 45647.55331859],\n",
       "       [102990.98794932],\n",
       "       [ 54896.49438806],\n",
       "       [ 72469.48242006],\n",
       "       [115939.50544658]])"
      ]
     },
     "execution_count": 71,
     "metadata": {},
     "output_type": "execute_result"
    }
   ],
   "source": [
    "pred_y = l_model.predict(X_test)\n",
    "pred_y"
   ]
  },
  {
   "cell_type": "code",
   "execution_count": 72,
   "id": "8faceeb6",
   "metadata": {
    "ExecuteTime": {
     "end_time": "2021-12-06T21:28:37.488778Z",
     "start_time": "2021-12-06T21:28:37.383294Z"
    }
   },
   "outputs": [
    {
     "data": {
      "image/png": "[encoded data removed]",
      "text/plain": [
       "<Figure size 432x288 with 1 Axes>"
      ]
     },
     "metadata": {
      "needs_background": "light"
     },
     "output_type": "display_data"
    }
   ],
   "source": [
    "#Visualization for predicted model\n",
    "plt.scatter(X_train,y_train, color='y')\n",
    "plt.plot(X_test,pred_y,color='b')\n",
    "plt.show()"
   ]
  }
 ],
 "metadata": {
  "kernelspec": {
   "display_name": "Python 3",
   "language": "python",
   "name": "python3"
  },
  "language_info": {
   "codemirror_mode": {
    "name": "ipython",
    "version": 3
   },
   "file_extension": ".py",
   "mimetype": "text/x-python",
   "name": "python",
   "nbconvert_exporter": "python",
   "pygments_lexer": "ipython3",
   "version": "3.8.8"
  }
 },
 "nbformat": 4,
 "nbformat_minor": 5
}
